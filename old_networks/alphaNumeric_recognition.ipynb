{
 "cells": [
  {
   "cell_type": "code",
   "execution_count": 85,
   "id": "5e83b3fc-5784-4fb8-85d3-edee206b6fed",
   "metadata": {},
   "outputs": [],
   "source": [
    "import cv2\n",
    "import numpy as np\n",
    "import matplotlib.pyplot as plt\n",
    "from torchvision import transforms\n",
    "from PIL import Image\n",
    "import torch\n",
    "from torchvision import datasets\n",
    "from torch.utils.data import DataLoader\n",
    "import torch.nn as nn\n",
    "import torch.optim as optim\n",
    "\n"
   ]
  },
  {
   "cell_type": "code",
   "execution_count": 87,
   "id": "00c6419e-73f6-4f09-afe0-b82097de9bbf",
   "metadata": {},
   "outputs": [
    {
     "data": {
      "image/png": "[encoded data removed]",
      "text/plain": [
       "<Figure size 640x480 with 1 Axes>"
      ]
     },
     "metadata": {},
     "output_type": "display_data"
    }
   ],
   "source": [
    "\n",
    "#image tweaking\n",
    "transform = transforms.Compose([\n",
    "    transforms.Grayscale(),  #grayscale\n",
    "    transforms.Resize((28, 28)),  #resize\n",
    "    transforms.ToTensor(),\n",
    "    transforms.Normalize((0.5,), (0.5,))\n",
    "])\n",
    "\n",
    "#open a sample image (images from Chars74k dataset)\n",
    "img_path = \"./data/individual_chars/A/img011-00001.png\"\n",
    "image = Image.open(img_path)\n",
    "\n",
    "\n",
    "processed_image = transform(image)\n",
    "\n",
    "#display the transformation on sample image\n",
    "plt.imshow(processed_image.squeeze(), cmap=\"gray\")\n",
    "plt.title(\"Processed Image\")\n",
    "plt.show()"
   ]
  },
  {
   "cell_type": "code",
   "execution_count": 89,
   "id": "609f61ea-ac04-47c6-9a10-3255446051d1",
   "metadata": {},
   "outputs": [
    {
     "name": "stdout",
     "output_type": "stream",
     "text": [
      "Image batch shape: torch.Size([64, 1, 28, 28])\n"
     ]
    }
   ],
   "source": [
    "dataset = datasets.ImageFolder(root=\"data/individual_chars\", transform=transform)\n",
    "\n",
    "trainloader = DataLoader(dataset, batch_size=64, shuffle=True)\n",
    "\n",
    "dataiter = iter(trainloader)\n",
    "images, labels = next(dataiter)\n",
    "#check batch size\n",
    "print(f\"Image batch shape: {images.shape}\")"
   ]
  },
  {
   "cell_type": "code",
   "execution_count": 91,
   "id": "8156011c-e8c3-4b24-b3c2-1805bd350c76",
   "metadata": {},
   "outputs": [],
   "source": [
    "\n",
    "# Define classification network\n",
    "class ClassificationNet(nn.Module):\n",
    "    def __init__(self):\n",
    "        super(ClassificationNet, self).__init__()\n",
    "        self.fc1 = nn.Linear(28 * 28, 128)\n",
    "        self.fc2 = nn.Linear(128, 64)\n",
    "        self.fc3 = nn.Linear(64, 62)  # 62 output nodes (A-Za-z + 0-9)\n",
    "        self.LogSoftmax = nn.LogSoftmax(dim=1)\n",
    "\n",
    "    def forward(self, x):\n",
    "        x = torch.relu(self.fc1(x))\n",
    "        x = torch.relu(self.fc2(x))\n",
    "        x = self.LogSoftmax(self.fc3(x))\n",
    "        return x\n",
    "\n",
    "model = ClassificationNet()\n",
    "criterion = nn.NLLLoss()\n",
    "optimizer = optim.Adam(model.parameters(), lr=0.001)"
   ]
  },
  {
   "cell_type": "code",
   "execution_count": 93,
   "id": "ec462437-b06e-4d7c-9381-d563e0684860",
   "metadata": {},
   "outputs": [
    {
     "name": "stdout",
     "output_type": "stream",
     "text": [
      "Epoch 1/20 - Loss: 3.4114940383217554\n",
      "Epoch 2/20 - Loss: 2.3022573595204627\n",
      "Epoch 3/20 - Loss: 1.7743960569712742\n",
      "Epoch 4/20 - Loss: 1.491755289972321\n",
      "Epoch 5/20 - Loss: 1.3062921112233943\n",
      "Epoch 6/20 - Loss: 1.1538067267945975\n",
      "Epoch 7/20 - Loss: 1.0442932760419925\n",
      "Epoch 8/20 - Loss: 0.9593864437962366\n",
      "Epoch 9/20 - Loss: 0.8713432387872175\n",
      "Epoch 10/20 - Loss: 0.8068497461720932\n",
      "Epoch 11/20 - Loss: 0.7426889060942594\n",
      "Epoch 12/20 - Loss: 0.6890013193296007\n",
      "Epoch 13/20 - Loss: 0.6348307334687099\n",
      "Epoch 14/20 - Loss: 0.5943723577113191\n",
      "Epoch 15/20 - Loss: 0.5475200057522325\n",
      "Epoch 16/20 - Loss: 0.5168863589113409\n",
      "Epoch 17/20 - Loss: 0.47347380036164904\n",
      "Epoch 18/20 - Loss: 0.44702371794822787\n",
      "Epoch 19/20 - Loss: 0.4137385313914827\n",
      "Epoch 20/20 - Loss: 0.3966420487431455\n"
     ]
    }
   ],
   "source": [
    "epochs = 20\n",
    "for epoch in range(epochs):\n",
    "    running_loss = 0\n",
    "    for images, labels in trainloader:\n",
    "        images = images.view(images.shape[0], -1)  #flatten\n",
    "        \n",
    "        optimizer.zero_grad()\n",
    "        output = model(images)\n",
    "        loss = criterion(output, labels)\n",
    "        loss.backward()\n",
    "        optimizer.step()\n",
    "        \n",
    "        running_loss += loss.item()\n",
    "\n",
    "    print(f\"Epoch {epoch+1}/{epochs} - Loss: {running_loss/len(trainloader)}\")\n"
   ]
  },
  {
   "cell_type": "code",
   "execution_count": 94,
   "id": "ab624de4-819c-446d-9656-b44eafd45ae8",
   "metadata": {},
   "outputs": [],
   "source": [
    "torch.save(model.state_dict(), \"./trained models/captcha_model1.pth\")"
   ]
  },
  {
   "cell_type": "code",
   "execution_count": 97,
   "id": "671606eb-f319-4cb0-872c-55655232d210",
   "metadata": {},
   "outputs": [
    {
     "name": "stdout",
     "output_type": "stream",
     "text": [
      "Predicted Character: e_lower\n"
     ]
    }
   ],
   "source": [
    "def predict_character(image_path, model):\n",
    "    model.eval()  #set model to evaluation mode\n",
    "    image = Image.open(image_path) #load sample image\n",
    "    image = transform(image).view(1, -1)  #apply transforms\n",
    "\n",
    "    with torch.no_grad(): #avoid gradient calculation\n",
    "        output = model(image)\n",
    "    \n",
    "    prediction = torch.argmax(output, dim=1).item()  #.item() converts the result to an int\n",
    "    return dataset.classes[prediction]  # Convert label index to character\n",
    "\n",
    "#ouputs the folder name of the image\n",
    "test_image = \"data/individual_chars/e_lower/img041-00035.png\"\n",
    "predicted_char = predict_character(test_image, model)\n",
    "print(f\"Predicted Character: {predicted_char}\")"
   ]
  },
  {
   "cell_type": "code",
   "execution_count": null,
   "id": "2458e794-f75f-4e55-aff9-00c0a0292ceb",
   "metadata": {},
   "outputs": [],
   "source": []
  },
  {
   "cell_type": "code",
   "execution_count": null,
   "id": "994234a2-309e-4430-adac-b33a4bf621be",
   "metadata": {},
   "outputs": [],
   "source": []
  }
 ],
 "metadata": {
  "kernelspec": {
   "display_name": "Python [conda env:base] *",
   "language": "python",
   "name": "conda-base-py"
  },
  "language_info": {
   "codemirror_mode": {
    "name": "ipython",
    "version": 3
   },
   "file_extension": ".py",
   "mimetype": "text/x-python",
   "name": "python",
   "nbconvert_exporter": "python",
   "pygments_lexer": "ipython3",
   "version": "3.12.7"
  }
 },
 "nbformat": 4,
 "nbformat_minor": 5
}
