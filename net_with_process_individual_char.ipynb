{
  "cells": [
    {
      "cell_type": "code",
      "execution_count": 2,
      "metadata": {
        "id": "MWScxwiFTmhg"
      },
      "outputs": [],
      "source": [
        "import os\n",
        "import numpy as np\n",
        "import torch\n",
        "import torch.nn as nn\n",
        "import torch.optim as optim\n",
        "from torch.utils.data import Dataset, DataLoader, random_split\n",
        "from PIL import Image\n",
        "from sklearn.model_selection import train_test_split\n",
        "from pathlib import Path\n",
        "import matplotlib.pyplot as plt\n",
        "import torchvision.transforms as transforms\n",
        "import torch.nn.functional as F\n",
        "import time\n",
        "import kagglehub\n",
        "from typing import Dict, List, Tuple\n",
        "from collections import Counter\n",
        "import cv2"
      ]
    },
    {
      "cell_type": "code",
      "execution_count": 3,
      "metadata": {
        "colab": {
          "base_uri": "https://localhost:8080/"
        },
        "id": "mMozhV0uTmhh",
        "outputId": "ce289dd2-6c1d-4887-adf4-72a25ff6e79c"
      },
      "outputs": [
        {
          "name": "stdout",
          "output_type": "stream",
          "text": [
            "Warning: Looks like you're using an outdated `kagglehub` version (installed: 0.3.10), please consider upgrading to the latest version (0.3.11).\n"
          ]
        }
      ],
      "source": [
        "# Import the dataset\n",
        "dataset_path = kagglehub.dataset_download(\"parsasam/captcha-dataset\")\n",
        "dataset_path = Path(dataset_path)"
      ]
    },
    {
      "cell_type": "code",
      "execution_count": 4,
      "metadata": {},
      "outputs": [],
      "source": [
        "# Set captcha parameters\n",
        "CAPTCHA_LENGTH: int = 5  # Captchas are exactly 5 characters long\n",
        "CHAR_INDEX: int = 0  # Index of the character to predict (0-4 for 5 characters)\n",
        "\n",
        "\n",
        "CHECKPOINT_DIR = f\"char_{CHAR_INDEX}_net_checkpoints\"\n",
        "os.makedirs(CHECKPOINT_DIR, exist_ok=True)"
      ]
    },
    {
      "cell_type": "code",
      "execution_count": 5,
      "metadata": {
        "colab": {
          "base_uri": "https://localhost:8080/"
        },
        "id": "4c6caGU6Tmhi",
        "outputId": "c092661a-9930-419b-86c2-cff3080ad636"
      },
      "outputs": [
        {
          "name": "stdout",
          "output_type": "stream",
          "text": [
            "Encoded Label:\n",
            " tensor([[0., 1., 0., 0., 0., 0., 0., 0., 0., 0., 0., 0., 0., 0., 0., 0., 0., 0.,\n",
            "         0., 0., 0., 0., 0., 0., 0., 0., 0., 0., 0., 0., 0., 0., 0., 0., 0., 0.,\n",
            "         0., 0., 0., 0., 0., 0., 0., 0., 0., 0., 0., 0., 0., 0., 0., 0., 0., 0.,\n",
            "         0., 0., 0., 0., 0., 0., 0., 0.]])\n",
            "Decoded Label: B\n"
          ]
        }
      ],
      "source": [
        "CHARACTERS = \"ABCDEFGHIJKLMNOPQRSTUVWXYZabcdefghijklmnopqrstuvwxyz0123456789\"\n",
        "NUM_CLASSES: int = len(CHARACTERS)\n",
        "CHAR_TO_INDEX = {char: idx for idx, char in enumerate(CHARACTERS)}\n",
        "INDEX_TO_CHAR = {idx: char for char, idx in CHAR_TO_INDEX.items()}\n",
        "\n",
        "def encode_label(label: str) -> torch.Tensor:\n",
        "    indices = [CHAR_TO_INDEX[char] for char in label]\n",
        "    one_hot = torch.zeros(len(label), NUM_CLASSES)\n",
        "    for i, index in enumerate(indices):\n",
        "        one_hot[i][index] = 1\n",
        "    return one_hot\n",
        "\n",
        "def decode_label(one_hot: torch.Tensor) -> str:\n",
        "    decoded_chars = []\n",
        "    for i in range(one_hot.size(0)):\n",
        "        index = torch.argmax(one_hot[i]).item()\n",
        "        decoded_chars.append(INDEX_TO_CHAR[index])\n",
        "    return ''.join(decoded_chars)\n",
        "\n",
        "# Test encoding and decoding\n",
        "label = \"B\"\n",
        "encoded_label = encode_label(label)\n",
        "print(\"Encoded Label:\\n\", encoded_label)\n",
        "\n",
        "decoded_label = decode_label(encoded_label)\n",
        "print(\"Decoded Label:\", decoded_label)\n"
      ]
    },
    {
      "cell_type": "code",
      "execution_count": 6,
      "metadata": {
        "id": "Hh9EqCbmaTs3"
      },
      "outputs": [],
      "source": [
        "# Image processing\n",
        "def process(image):\n",
        "    # 1st part\n",
        "    image = cv2.cvtColor(image, cv2.COLOR_BGR2GRAY)\n",
        "\n",
        "    common = []\n",
        "    RANGE=25\n",
        "    for i in range(RANGE):\n",
        "      common.append(Counter(image.flatten()).most_common(RANGE+1)[i][0])\n",
        "\n",
        "\n",
        "    temp = image.copy()\n",
        "    for i, row in enumerate(temp):\n",
        "      for j, pixel in enumerate(row):\n",
        "        if pixel in common:\n",
        "          # temp[i][j] = 0   # keep\n",
        "          pass\n",
        "        else:\n",
        "          temp[i][j] = 255 # discard\n",
        "\n",
        "\n",
        "    ret,temp = cv2.threshold(temp, 0, 255, cv2.THRESH_OTSU)\n",
        "\n",
        "    # limit if too much or too little is filtered out\n",
        "    if Counter(temp.flatten()).most_common(2)[1][1] < 500 or Counter(temp.flatten()).most_common(2)[1][1] > 1000:\n",
        "      ret,image = cv2.threshold(image, 0, 255, cv2.THRESH_OTSU)\n",
        "    else:\n",
        "      image = temp\n",
        "\n",
        "\n",
        "    # 2nd part\n",
        "    if image[0][0] == 0:\n",
        "      image = cv2.bitwise_not(image)\n",
        "\n",
        "    # all non-white pixels are now black\n",
        "    for i, row in enumerate(image):\n",
        "      for j, pixel in enumerate(row):\n",
        "        if pixel != 255:\n",
        "          image[i][j] = 0\n",
        "\n",
        "\n",
        "    # FIXME TODO Try removing GaussianBlur and Dilate when training\n",
        "    image = cv2.GaussianBlur(image, (7,7), 0)\n",
        "\n",
        "    # Creating kernel\n",
        "    kernel = np.ones((2, 2), np.uint8)\n",
        "\n",
        "    image = cv2.dilate(image, kernel, cv2.BORDER_REFLECT)\n",
        "\n",
        "    return image"
      ]
    },
    {
      "cell_type": "code",
      "execution_count": 7,
      "metadata": {
        "id": "4lfKHwzBTmhi"
      },
      "outputs": [],
      "source": [
        "# PyTorch DataLoader with image processing\n",
        "transform = transforms.Compose([\n",
        "    transforms.Resize((40, 150)),\n",
        "    transforms.ToTensor()\n",
        "])\n",
        "\n",
        "class CaptchaDataset(Dataset):\n",
        "    def __init__(self, img_dir, transform=None):\n",
        "        self.img_dir = img_dir\n",
        "        self.transform = transform\n",
        "        self.image_files = [f for f in os.listdir(img_dir) if f.endswith('.jpg')]  # Assuming .jpg files\n",
        "        self.num_chars = CAPTCHA_LENGTH\n",
        "\n",
        "    def __len__(self):\n",
        "        return len(self.image_files)\n",
        "\n",
        "    def __getitem__(self, idx):\n",
        "        img_name = self.image_files[idx]\n",
        "        label = img_name.split('.')[0]  # Extract label from filename (without the .jpg extension)\n",
        "        label = label[CHAR_INDEX]\n",
        "        img_path = os.path.join(self.img_dir, img_name)\n",
        "\n",
        "        # Open the image and apply the transform (if any)\n",
        "        image = cv2.imread(img_path)\n",
        "\n",
        "        image = process(image)\n",
        "        image = Image.fromarray(image)\n",
        "\n",
        "        if self.transform:\n",
        "            image = self.transform(image)\n",
        "\n",
        "        label_one_hot = encode_label(label)\n",
        "\n",
        "        return image, label_one_hot"
      ]
    },
    {
      "cell_type": "code",
      "execution_count": 8,
      "metadata": {
        "id": "t0NHTcXiTmhj"
      },
      "outputs": [],
      "source": [
        "# Create the dataset and dataloaders\n",
        "dataset = CaptchaDataset(img_dir=dataset_path, transform=transform)\n",
        "\n",
        "train_ratio = 0.8\n",
        "test_ratio = 1 - train_ratio\n",
        "\n",
        "# Split the dataset into training and testing sets\n",
        "train_size = int(len(dataset) * train_ratio)\n",
        "test_size = len(dataset) - train_size\n",
        "\n",
        "train_dataset, test_dataset = random_split(dataset, [train_size, test_size])\n",
        "\n",
        "train_dataloader = DataLoader(train_dataset, batch_size=32, shuffle=True)\n",
        "test_dataloader = DataLoader(test_dataset, batch_size=32, shuffle=False)"
      ]
    },
    {
      "cell_type": "code",
      "execution_count": 9,
      "metadata": {
        "id": "qNQzMj46Tmhj"
      },
      "outputs": [],
      "source": [
        "# CNN to try and identify a single character\n",
        "class CaptchaCNN(nn.Module):\n",
        "    def __init__(self):\n",
        "        super(CaptchaCNN, self).__init__()\n",
        "\n",
        "        # Define the individual convolutional layers\n",
        "        # self.conv1 = nn.Conv2d(3, 32, kernel_size=3, padding=1)\n",
        "        self.conv1 = nn.Conv2d(1, 32, kernel_size=3, padding=1)    # 1 for black and white\n",
        "        self.conv2 = nn.Conv2d(32, 64, kernel_size=3, padding=1)\n",
        "        self.conv3 = nn.Conv2d(64, 128, kernel_size=3, padding=1)\n",
        "\n",
        "        # Define the MaxPool layers\n",
        "        self.pool1 = nn.MaxPool2d(kernel_size=2, stride=2)\n",
        "        self.pool2 = nn.MaxPool2d(kernel_size=2, stride=2)\n",
        "        self.pool3 = nn.MaxPool2d(kernel_size=2, stride=2)\n",
        "\n",
        "        # Dummy input to calculate the output size after convolutions\n",
        "        self.dummy_input = torch.zeros(1, 1, 40, 150)  # Example input size: (batch_size, channels, height, width)\n",
        "        conv_output = self._forward_conv(self.dummy_input)  # Get output shape after convolution\n",
        "        conv_output_size = conv_output.view(1, -1).size(1)  # Flatten the output and get size\n",
        "\n",
        "        # Define fully connected layers\n",
        "        self.fc1 = nn.Linear(conv_output_size, 256)\n",
        "        self.fc2 = nn.Linear(256, CAPTCHA_LENGTH * NUM_CLASSES)\n",
        "        self.fc3 = nn.Linear(CAPTCHA_LENGTH * NUM_CLASSES, NUM_CLASSES)\n",
        "\n",
        "    def _forward_conv(self, x):\n",
        "        # Pass through the convolutional layers\n",
        "        x = self.conv1(x)\n",
        "        x = F.relu(x)\n",
        "        x = self.pool1(x)\n",
        "\n",
        "        x = self.conv2(x)\n",
        "        x = F.relu(x)\n",
        "        x = self.pool2(x)\n",
        "\n",
        "        x = self.conv3(x)\n",
        "        x = F.relu(x)\n",
        "        x = self.pool3(x)\n",
        "\n",
        "        return x\n",
        "\n",
        "    def forward(self, x):\n",
        "        # Pass through convolution layers\n",
        "        x = self._forward_conv(x)\n",
        "\n",
        "        # Flatten the output of the convolutional layers\n",
        "        x = x.flatten(start_dim=1)\n",
        "\n",
        "        # Pass through fully connected layers\n",
        "        x = self.fc1(x)\n",
        "        x = F.relu(x)\n",
        "        x = self.fc2(x)\n",
        "        x = F.relu(x)\n",
        "        x = self.fc3(x)\n",
        "\n",
        "        # Reshape to match the desired output format\n",
        "        return x.view(-1, 1, NUM_CLASSES)"
      ]
    },
    {
      "cell_type": "code",
      "execution_count": 10,
      "metadata": {
        "id": "6igabocKTmhj"
      },
      "outputs": [],
      "source": [
        "# Training setup\n",
        "device = torch.device(\"cuda\" if torch.cuda.is_available() else \"cpu\")\n",
        "model = CaptchaCNN()\n",
        "criterion = nn.BCEWithLogitsLoss()\n",
        "optimizer = torch.optim.Adam(model.parameters(), lr=0.001)"
      ]
    },
    {
      "cell_type": "code",
      "execution_count": 11,
      "metadata": {
        "id": "oCzVDAs5Tmhj"
      },
      "outputs": [],
      "source": [
        "# Function to look for and load any checkpoints\n",
        "def load_checkpoint(model, optimizer, checkpoints_dir=CHECKPOINT_DIR):\n",
        "    # List all checkpoint files in the directory\n",
        "    checkpoint_files = [f for f in os.listdir(checkpoints_dir) if f.endswith(\".pth\")]\n",
        "\n",
        "    # If no checkpoint exists, return the model and optimizer state without modification\n",
        "    if not checkpoint_files:\n",
        "        print(\"No checkpoint found, starting fresh.\")\n",
        "        return model, optimizer, 0, []\n",
        "\n",
        "    # Find the most recent checkpoint (by sorting the files)\n",
        "    latest_checkpoint = max(checkpoint_files, key=lambda f: int(f.split('_')[2].split('.')[0]))  # Sorting by epoch number\n",
        "    checkpoint_path = os.path.join(checkpoints_dir, latest_checkpoint)\n",
        "\n",
        "    # Load checkpoint data\n",
        "    checkpoint = torch.load(checkpoint_path)\n",
        "\n",
        "    # Restore model state, optimizer state, and other checkpoint data\n",
        "    model.load_state_dict(checkpoint['model_state_dict'])\n",
        "    optimizer.load_state_dict(checkpoint['optimizer_state_dict'])\n",
        "\n",
        "    # Get the starting epoch and loss history\n",
        "    starting_epoch = checkpoint['epoch']\n",
        "    loss_history = checkpoint['loss_history']\n",
        "\n",
        "    print(f\"Loaded checkpoint from epoch {starting_epoch}\")\n",
        "\n",
        "    return model, optimizer, starting_epoch, loss_history\n"
      ]
    },
    {
      "cell_type": "code",
      "execution_count": 12,
      "metadata": {
        "colab": {
          "base_uri": "https://localhost:8080/"
        },
        "id": "Wbfu7d-VTmhj",
        "outputId": "2111f692-4db0-446c-beb0-4ee30d0265ae"
      },
      "outputs": [
        {
          "name": "stdout",
          "output_type": "stream",
          "text": [
            "Loaded checkpoint from epoch 3\n",
            "Loss history length: 8481\n"
          ]
        }
      ],
      "source": [
        "# Load checkpoints\n",
        "model, optimizer, start_epoch, loss_history = load_checkpoint(model, optimizer)\n",
        "\n",
        "print(f\"Loss history length: {len(loss_history)}\")"
      ]
    },
    {
      "cell_type": "code",
      "execution_count": 13,
      "metadata": {
        "id": "diP4KUgwTmhk"
      },
      "outputs": [],
      "source": [
        "# Model training function\n",
        "def train_model(model, train_loader, optimizer, criterion, epochs=10,\n",
        "                print_every=100, checkpoints_dir=CHECKPOINT_DIR, starting_epoch=0, loss_history=None):\n",
        "    if loss_history is None:\n",
        "        loss_history = []  # Initialize loss history if not provided\n",
        "\n",
        "    total_batches = len(train_loader)  # Total number of batches per epoch\n",
        "\n",
        "    # Ensure the checkpoints directory exists\n",
        "    os.makedirs(checkpoints_dir, exist_ok=True)\n",
        "\n",
        "    model.train()\n",
        "    for epoch in range(starting_epoch, epochs):  # Start from the checkpoint's epoch\n",
        "        total_loss = 0\n",
        "        start_epoch_time = time.time()  # Record start time of the epoch\n",
        "\n",
        "        for batch_idx, (images, labels) in enumerate(train_loader):\n",
        "            images, labels = images.to(device), labels.to(device)\n",
        "\n",
        "            optimizer.zero_grad()\n",
        "            outputs = model(images)\n",
        "            loss = criterion(outputs, labels)\n",
        "            loss.backward()\n",
        "            optimizer.step()\n",
        "\n",
        "            total_loss += loss.item()\n",
        "\n",
        "            # Calculate total elapsed time since the start of training\n",
        "            total_elapsed_time = time.time() - start_epoch_time\n",
        "            avg_batch_time = total_elapsed_time / (batch_idx + 1)\n",
        "\n",
        "            # Print loss and total elapsed time at specified frequency\n",
        "            if batch_idx % print_every == 0:\n",
        "                print(f\"Epoch [{epoch+1}/{epochs}], Batch [{batch_idx+1}/{total_batches}], Loss: {loss.item():.4f}, \"\n",
        "                      f\"Total Elapsed Time: {total_elapsed_time:.2f}s, Avg Time per Batch: {avg_batch_time:.4f}s\")\n",
        "\n",
        "            loss_history.append(loss.item())\n",
        "\n",
        "        # Save checkpoint at the end of the epoch\n",
        "        checkpoint_filename = f\"model_epoch_{epoch+1}.pth\"\n",
        "        checkpoint_path = os.path.join(checkpoints_dir, checkpoint_filename)\n",
        "\n",
        "        torch.save({\n",
        "            'epoch': epoch + 1,\n",
        "            'model_state_dict': model.state_dict(),\n",
        "            'optimizer_state_dict': optimizer.state_dict(),\n",
        "            'loss_history': loss_history,\n",
        "        }, checkpoint_path)\n",
        "        print(f\"Saved model checkpoint for epoch [{epoch+1}/{epochs}] to {checkpoint_filename}\")\n",
        "\n",
        "        # Calculate total epoch time and print the information\n",
        "        epoch_end_time = time.time()\n",
        "        epoch_time = epoch_end_time - start_epoch_time\n",
        "        print(f\"Epoch {epoch+1}/{epochs}, Epoch Time: {epoch_time:.2f}s\")\n",
        "\n",
        "    return loss_history\n"
      ]
    },
    {
      "cell_type": "code",
      "execution_count": null,
      "metadata": {
        "colab": {
          "base_uri": "https://localhost:8080/"
        },
        "id": "OKUadhNOTmhk",
        "outputId": "69d5cae8-7a70-4539-ff04-c9ac184571c7"
      },
      "outputs": [],
      "source": [
        "# Train the model\n",
        "history = train_model(\n",
        "    model=model,\n",
        "    train_loader=train_dataloader,\n",
        "    optimizer=optimizer,\n",
        "    criterion=criterion,\n",
        "    epochs=10,\n",
        "    print_every=250,\n",
        "    checkpoints_dir=CHECKPOINT_DIR,\n",
        "    starting_epoch=start_epoch,\n",
        "    loss_history=loss_history\n",
        ")"
      ]
    },
    {
      "cell_type": "code",
      "execution_count": 14,
      "metadata": {
        "id": "fG_psTwbTmhk"
      },
      "outputs": [
        {
          "data": {
            "image/png": "[encoded data removed]",
            "text/plain": [
              "<Figure size 640x480 with 1 Axes>"
            ]
          },
          "metadata": {},
          "output_type": "display_data"
        }
      ],
      "source": [
        "# Function to plot training results\n",
        "def plot_results(history):\n",
        "    plt.plot(history, label='Train Loss')\n",
        "    plt.legend()\n",
        "    plt.title('Training Loss')\n",
        "    plt.show()\n",
        "\n",
        "plot_results(loss_history[25:])"
      ]
    },
    {
      "cell_type": "code",
      "execution_count": 15,
      "metadata": {
        "id": "ZS1ZT4_JTmhk"
      },
      "outputs": [
        {
          "data": {
            "image/png": "[encoded data removed]",
            "text/plain": [
              "<Figure size 1500x300 with 5 Axes>"
            ]
          },
          "metadata": {},
          "output_type": "display_data"
        }
      ],
      "source": [
        "# Function to predict labels from the model\n",
        "def predict(model, dataloader, device):\n",
        "    model.eval()\n",
        "    images, labels = next(iter(dataloader))\n",
        "\n",
        "    # process step\n",
        "    images = images.to(device)\n",
        "    outputs = model(images)\n",
        "    predicted_labels = []\n",
        "    for output in outputs:\n",
        "        predicted_label = decode_label(output)\n",
        "        predicted_labels.append(predicted_label)\n",
        "    return images.cpu(), predicted_labels\n",
        "\n",
        "# Get some images and their predicted labels\n",
        "images, predicted_labels = predict(model, test_dataloader, device)\n",
        "\n",
        "# Display a few images and their predicted labels\n",
        "fig, axes = plt.subplots(1, 5, figsize=(15, 3))\n",
        "for i, ax in enumerate(axes):\n",
        "    ax.imshow(images[i+5].permute(1, 2, 0), cmap='gray')\n",
        "    ax.set_title(f\"Predicted: {predicted_labels[i+5]}\")\n",
        "    ax.axis('off')\n",
        "plt.show()"
      ]
    },
    {
      "cell_type": "code",
      "execution_count": 16,
      "metadata": {},
      "outputs": [],
      "source": [
        "# Test the accuracy of the model\n",
        "def evaluate_model(model, dataloader, device):\n",
        "    model.eval()\n",
        "    results = {\n",
        "        \"total_letters\": 0,\n",
        "        \"correct_letters\": 0,\n",
        "    }\n",
        "    \n",
        "    with torch.no_grad():\n",
        "        for images, labels in dataloader:\n",
        "            images = images.to(device)\n",
        "            outputs = model(images)\n",
        "            \n",
        "            for output, label in zip(outputs, labels):\n",
        "                predicted_label = decode_label(output)\n",
        "                real_label = decode_label(label)\n",
        "\n",
        "                results[\"total_letters\"] += 1\n",
        "                \n",
        "                if predicted_label == real_label:\n",
        "                    results[\"correct_letters\"] += 1\n",
        "                    \n",
        "        return results\n",
        "\n",
        "results = evaluate_model(model, test_dataloader, device)"
      ]
    },
    {
      "cell_type": "code",
      "execution_count": 18,
      "metadata": {},
      "outputs": [
        {
          "name": "stdout",
          "output_type": "stream",
          "text": [
            "Correct Letters: 16412/22613 (72.58%)\n"
          ]
        }
      ],
      "source": [
        "# Print test results\n",
        "print(f\"Correct Letters: {results[\"correct_letters\"]}/{results[\"total_letters\"]} ({results[\"correct_letters\"]/results[\"total_letters\"]:.2%})\")"
      ]
    }
  ],
  "metadata": {
    "colab": {
      "provenance": []
    },
    "kernelspec": {
      "display_name": ".venv",
      "language": "python",
      "name": "python3"
    },
    "language_info": {
      "codemirror_mode": {
        "name": "ipython",
        "version": 3
      },
      "file_extension": ".py",
      "mimetype": "text/x-python",
      "name": "python",
      "nbconvert_exporter": "python",
      "pygments_lexer": "ipython3",
      "version": "3.12.7"
    }
  },
  "nbformat": 4,
  "nbformat_minor": 0
}
